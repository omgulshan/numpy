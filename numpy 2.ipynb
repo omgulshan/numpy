{
 "cells": [
  {
   "attachments": {},
   "cell_type": "markdown",
   "metadata": {},
   "source": [
    "slicing of an array:\n",
    "In Python Slicing is Known as extracting a certain part of the array in order to use it for certain specific purpose\n",
    "Way of slicing \n",
    "the genral comand to slice an array say arr is as \n",
    "print(arr[start:end:step])\n",
    "special case\n",
    "1)if start is not mentioned it is automatically taken as 0\n",
    "2)if end is not mentioned it is automatically taken as equal to length of the array.\n",
    "3)if step is not mentioned it is automatically taken as 1."
   ]
  },
  {
   "cell_type": "code",
   "execution_count": null,
   "metadata": {},
   "outputs": [],
   "source": [
    "#example\n",
    "import numpy as np\n",
    "arr=np.array([1,2,3,4,5,6,7])\n",
    "#indexing element from index 0 to 4 with step 1\n",
    "print(arr[0:4:1])\n",
    "#same code can be written as follows\n",
    "print(arr[:4:])\n",
    "print(arr[:4:])\n"
   ]
  },
  {
   "attachments": {},
   "cell_type": "markdown",
   "metadata": {},
   "source": [
    "negative slicing\n",
    "It is also possible to extract a part of array from end position as compared to the beginning and thus we uses negative indexing for this purpose\n"
   ]
  },
  {
   "cell_type": "code",
   "execution_count": null,
   "metadata": {},
   "outputs": [],
   "source": [
    "'''suppose that you are required to extract the last four element of an array say arr=[1,2,3,4,5,6]\n",
    "this can be done in two ways either by using forward slicing or by using backward slicing\n",
    "'''\n",
    "#using forward slicing\n",
    "import numpy as np  \n",
    "arr=np.array([1,2,3,4,5,6])\n",
    "print(arr[2:5])\n",
    "print(arr[-4:-1])#output will be [3,4,5,6]\n"
   ]
  },
  {
   "cell_type": "code",
   "execution_count": null,
   "metadata": {},
   "outputs": [],
   "source": [
    "#slicing 2 d array\n",
    "import numpy as np  \n",
    "arr=np.array([1,2,3],[4,5,6],[7,8,9])\n",
    "print(arr[1,0:1]) #output will be [4,5]\n",
    "print(arr[0:2,0:1]) #output will be [[1,2],[4,5],[7,8]]"
   ]
  }
 ],
 "metadata": {
  "language_info": {
   "name": "python"
  },
  "orig_nbformat": 4
 },
 "nbformat": 4,
 "nbformat_minor": 2
}
