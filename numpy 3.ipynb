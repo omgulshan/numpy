{
 "cells": [
  {
   "attachments": {},
   "cell_type": "markdown",
   "metadata": {},
   "source": [
    "Data type in numpy array:\n",
    "Depending upon the type of element that numpy array consists it is said to have data type of that particular type:\n",
    "There are different type of data type which an array can possess:\n",
    "i - integer\n",
    "b - boolean\n",
    "u - unsigned integer\n",
    "f - float\n",
    "c - complex float\n",
    "m - timedelta\n",
    "M - datetime\n",
    "O - object\n",
    "S - string\n",
    "U - unicode string\n",
    "V - fixed chunk of memory for other type ( void )\n"
   ]
  },
  {
   "attachments": {},
   "cell_type": "markdown",
   "metadata": {},
   "source": [
    "checking data type of numpy array"
   ]
  },
  {
   "cell_type": "code",
   "execution_count": null,
   "metadata": {},
   "outputs": [],
   "source": [
    "#following code is used to check the data type of the given numpy array:\n",
    "import numpy as np  \n",
    "arr=np.array([1,2,3,4])\n",
    "print(arr.dtype)#ans will be integer\n",
    "arr=np.array(['apple','Banana','Grape'])\n",
    "print(arr.dtype)#ans will be string"
   ]
  },
  {
   "attachments": {},
   "cell_type": "markdown",
   "metadata": {},
   "source": [
    "it is also possible to specify a particular data type to the element this can be done by additional adding datatype of the element"
   ]
  },
  {
   "cell_type": "code",
   "execution_count": null,
   "metadata": {},
   "outputs": [],
   "source": [
    "import numpy as np  \n",
    "arr=np.array([1,2,3,4],dtype='S')\n",
    "#This code will make the array arr to the string data type\n",
    "arr1=np.array([1.2,2.3,3.4,4.5])\n",
    "print(arr1.astype(int))\n",
    "#This code will print the arr1 as array having integer element\n"
   ]
  }
 ],
 "metadata": {
  "language_info": {
   "name": "python"
  },
  "orig_nbformat": 4
 },
 "nbformat": 4,
 "nbformat_minor": 2
}
