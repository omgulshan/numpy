{
 "cells": [
  {
   "cell_type": "code",
   "execution_count": null,
   "metadata": {},
   "outputs": [],
   "source": [
    "#shape of the array\n",
    "import numpy as np \n",
    "arr=np.array([[1,2,3,4],[5,6,7,8]])\n",
    "print(arr)\n",
    "print(arr.shape)#output will be (2,4)\n"
   ]
  },
  {
   "attachments": {},
   "cell_type": "markdown",
   "metadata": {},
   "source": [
    "Reshaping array:\n",
    "It is also possible for us to change the dimesion of array.suppose that we are given a 1 dimesnional array arr such that\n",
    "arr=[1,2,3,4,5,6,7,8,9]\n",
    "we can reshape this array as two dimesnional array having 3 rows and 3 collums "
   ]
  },
  {
   "cell_type": "code",
   "execution_count": null,
   "metadata": {},
   "outputs": [],
   "source": [
    "import numpy as np  \n",
    "arr=np.array([1,2,3,4,5,6,7,8,9])\n",
    "print(arr)\n",
    "print(arr.shape)\n",
    "print(arr.reshape(3,3))\n",
    "print(arr.shape)\n"
   ]
  },
  {
   "attachments": {},
   "cell_type": "markdown",
   "metadata": {},
   "source": [
    "Iteration through element in an array\n",
    "It is also required some time that we have to transverse to each and every element in the array.This process of moving through each and every element is knwon as iterating of array\n",
    "\n",
    "->Iteration can be performed on both one dimesnional as well as 2 dimesional array\n"
   ]
  },
  {
   "cell_type": "code",
   "execution_count": null,
   "metadata": {},
   "outputs": [],
   "source": [
    "import numpy as np\n",
    "#for 1 dimesnional array\n",
    "arr=np.array([1,2,3,4,5])\n",
    "for x in arr:\n",
    "    print(x)\n",
    "#for 2 dimesnional array\n",
    "arr1=np.array([[1,2,3],[4,5,6]])\n",
    "for x in arr1:\n",
    "    for y in x:\n",
    "        print(y)"
   ]
  },
  {
   "attachments": {},
   "cell_type": "markdown",
   "metadata": {},
   "source": [
    "joining the array:\n",
    "It is also required some times to merge two or more array so that a final desired array is produced.\n",
    "This process is known as Joining the array"
   ]
  },
  {
   "cell_type": "code",
   "execution_count": null,
   "metadata": {},
   "outputs": [],
   "source": [
    "import numpy as np \n",
    "arr=np.array([1,2,3])\n",
    "arr1=np.array([4,5,6])\n",
    "arr2=np.array([7,8,9,10])\n",
    "arr3=np.concatenate((arr,arr1,arr2))\n",
    "print(arr3)"
   ]
  },
  {
   "attachments": {},
   "cell_type": "markdown",
   "metadata": {},
   "source": [
    "Spliting array\n",
    "It is also desired some time that a large array to be splited into smaller array in order to perform various analytical and other calculation.This is known as spliting of array"
   ]
  },
  {
   "cell_type": "code",
   "execution_count": null,
   "metadata": {},
   "outputs": [],
   "source": [
    "import numpy as np \n",
    "arr=np.array([1,2,3,4,5,6,7,8,9])\n",
    "print(np.array_split(arr,3))"
   ]
  }
 ],
 "metadata": {
  "kernelspec": {
   "display_name": "Python 3",
   "language": "python",
   "name": "python3"
  },
  "language_info": {
   "codemirror_mode": {
    "name": "ipython",
    "version": 3
   },
   "file_extension": ".py",
   "mimetype": "text/x-python",
   "name": "python",
   "nbconvert_exporter": "python",
   "pygments_lexer": "ipython3",
   "version": "3.11.3"
  },
  "orig_nbformat": 4
 },
 "nbformat": 4,
 "nbformat_minor": 2
}
